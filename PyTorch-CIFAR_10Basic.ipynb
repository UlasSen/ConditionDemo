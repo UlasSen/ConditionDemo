{
  "nbformat": 4,
  "nbformat_minor": 0,
  "metadata": {
    "colab": {
      "provenance": [],
      "gpuType": "T4",
      "authorship_tag": "ABX9TyMwwHWKTHBhpJmxY1Wtyym/",
      "include_colab_link": true
    },
    "kernelspec": {
      "name": "python3",
      "display_name": "Python 3"
    },
    "language_info": {
      "name": "python"
    },
    "accelerator": "GPU"
  },
  "cells": [
    {
      "cell_type": "markdown",
      "metadata": {
        "id": "view-in-github",
        "colab_type": "text"
      },
      "source": [
        "<a href=\"https://colab.research.google.com/github/UlasSen/ConditionDemo/blob/master/PyTorch-CIFAR_10Basic.ipynb\" target=\"_parent\"><img src=\"https://colab.research.google.com/assets/colab-badge.svg\" alt=\"Open In Colab\"/></a>"
      ]
    },
    {
      "cell_type": "code",
      "execution_count": null,
      "metadata": {
        "id": "_A-8N3ua54ZC"
      },
      "outputs": [],
      "source": [
        "import torch\n",
        "import torchvision\n",
        "import torchvision.transforms as transforms\n",
        "import matplotlib.pyplot as plt\n",
        "import numpy as np\n",
        "\n"
      ]
    },
    {
      "cell_type": "code",
      "source": [
        "# CIFAR-10 için veri dönüşümleri (normalize ediliyor)\n",
        "transform = transforms.Compose([\n",
        "    transforms.ToTensor(),\n",
        "    transforms.Normalize((0.5, 0.5, 0.5), (0.5, 0.5, 0.5))\n",
        "])\n",
        "\n",
        "# CIFAR-10 Veri Setini İndirme\n",
        "trainset = torchvision.datasets.CIFAR10(root='./data', train=True, download=True, transform=transform)\n",
        "trainloader = torch.utils.data.DataLoader(trainset, batch_size=4, shuffle=True, num_workers=2)\n",
        "\n",
        "testset = torchvision.datasets.CIFAR10(root='./data', train=False, download=True, transform=transform)\n",
        "testloader = torch.utils.data.DataLoader(testset, batch_size=4, shuffle=False, num_workers=2)\n",
        "\n",
        "# CIFAR-10 Sınıf İsimleri\n",
        "classes = ('airplane', 'automobile', 'bird', 'cat', 'deer',\n",
        "           'dog', 'frog', 'horse', 'ship', 'truck')\n",
        "\n",
        "# Birkaç Görseli Görselleştirme\n",
        "def imshow(img):\n",
        "    img = img / 2 + 0.5  # Normalize geri al\n",
        "    npimg = img.numpy()\n",
        "    plt.imshow(np.transpose(npimg, (1, 2, 0)))\n",
        "    plt.show()\n",
        "\n",
        "# Eğitim verisinden bazı görüntüleri al\n",
        "dataiter = iter(trainloader)\n",
        "images, labels = next(dataiter)\n",
        "\n",
        "# Görselleri göster\n",
        "imshow(torchvision.utils.make_grid(images))\n",
        "\n",
        "# Etiketleri yazdır\n",
        "print(' '.join(f'{classes[labels[j]]}' for j in range(4)))\n"
      ],
      "metadata": {
        "colab": {
          "base_uri": "https://localhost:8080/",
          "height": 284
        },
        "id": "o9OngK7s6HO3",
        "outputId": "ab1576e4-1d2d-48f0-e88b-6d880ebce809"
      },
      "execution_count": null,
      "outputs": [
        {
          "output_type": "stream",
          "name": "stdout",
          "text": [
            "Downloading https://www.cs.toronto.edu/~kriz/cifar-10-python.tar.gz to ./data/cifar-10-python.tar.gz\n"
          ]
        },
        {
          "output_type": "stream",
          "name": "stderr",
          "text": [
            "100%|██████████| 170M/170M [00:12<00:00, 13.4MB/s]\n"
          ]
        },
        {
          "output_type": "stream",
          "name": "stdout",
          "text": [
            "Extracting ./data/cifar-10-python.tar.gz to ./data\n",
            "Files already downloaded and verified\n"
          ]
        },
        {
          "output_type": "display_data",
          "data": {
            "text/plain": [
              "<Figure size 640x480 with 1 Axes>"
            ],
            "image/png": "[encoded data removed]"
          },
          "metadata": {}
        },
        {
          "output_type": "stream",
          "name": "stdout",
          "text": [
            "ship cat truck truck\n"
          ]
        }
      ]
    },
    {
      "cell_type": "code",
      "source": [
        "import torch.nn as nn\n",
        "import torch.nn.functional as F\n",
        "\n",
        "class Net(nn.Module):\n",
        "    def __init__(self):\n",
        "        super(Net, self).__init__()\n",
        "        self.conv1 = nn.Conv2d(3, 32, 3, padding=1)  # 3 giriş kanalı (RGB), 32 filtre, 3x3 kernel\n",
        "        self.conv2 = nn.Conv2d(32, 64, 3, padding=1)\n",
        "        self.pool = nn.MaxPool2d(2, 2)  # 2x2 Max Pooling\n",
        "        self.fc1 = nn.Linear(64 * 8 * 8, 512)  # Fully Connected layer\n",
        "        self.fc2 = nn.Linear(512, 10)  # Çıkış katmanı (10 sınıf)\n",
        "\n",
        "    def forward(self, x):\n",
        "        x = self.pool(F.relu(self.conv1(x)))  # Conv -> ReLU -> Pooling\n",
        "        x = self.pool(F.relu(self.conv2(x)))\n",
        "        x = x.view(-1, 64 * 8 * 8)  # Flatten işlemi\n",
        "        x = F.relu(self.fc1(x))\n",
        "        x = self.fc2(x)\n",
        "        return x\n",
        "\n",
        "# Modeli oluştur\n",
        "net = Net()\n",
        "print(net)\n"
      ],
      "metadata": {
        "colab": {
          "base_uri": "https://localhost:8080/"
        },
        "id": "bOD3AxknFR9P",
        "outputId": "71c86e9f-5a7c-46f8-cde0-f340a6459e6d"
      },
      "execution_count": null,
      "outputs": [
        {
          "output_type": "stream",
          "name": "stdout",
          "text": [
            "Net(\n",
            "  (conv1): Conv2d(3, 32, kernel_size=(3, 3), stride=(1, 1), padding=(1, 1))\n",
            "  (conv2): Conv2d(32, 64, kernel_size=(3, 3), stride=(1, 1), padding=(1, 1))\n",
            "  (pool): MaxPool2d(kernel_size=2, stride=2, padding=0, dilation=1, ceil_mode=False)\n",
            "  (fc1): Linear(in_features=4096, out_features=512, bias=True)\n",
            "  (fc2): Linear(in_features=512, out_features=10, bias=True)\n",
            ")\n"
          ]
        }
      ]
    },
    {
      "cell_type": "code",
      "source": [
        "import torch.optim as optim\n",
        "\n",
        "criterion = nn.CrossEntropyLoss()  # Sınıflandırma için uygun kayıp fonksiyonu\n",
        "optimizer = optim.SGD(net.parameters(), lr=0.001, momentum=0.9)  # SGD Optimizer\n"
      ],
      "metadata": {
        "id": "azdpDGnjFZ3S"
      },
      "execution_count": null,
      "outputs": []
    },
    {
      "cell_type": "code",
      "source": [
        "import torch.optim as optim\n",
        "\n",
        "# Cihazı belirle\n",
        "device = torch.device(\"cuda\" if torch.cuda.is_available() else \"cpu\")\n",
        "print(f\"Kullanılan cihaz: {device}\")\n",
        "\n",
        "# Modeli GPU'ya taşı\n",
        "net.to(device)\n",
        "\n",
        "# Kayıp fonksiyonu ve optimizer\n",
        "criterion = nn.CrossEntropyLoss()\n",
        "optimizer = optim.SGD(net.parameters(), lr=0.001, momentum=0.9)\n",
        "\n",
        "num_epochs = 5  # 10 Epoch boyunca eğit\n",
        "\n",
        "for epoch in range(num_epochs):\n",
        "    running_loss = 0.0\n",
        "\n",
        "    for i, data in enumerate(trainloader, 0):\n",
        "        inputs, labels = data\n",
        "\n",
        "        # Veriyi GPU'ya taşı\n",
        "        inputs, labels = inputs.to(device), labels.to(device)\n",
        "\n",
        "        # Optimizasyonu sıfırla\n",
        "        optimizer.zero_grad()\n",
        "\n",
        "        # İleri yayılım (Forward propagation)\n",
        "        outputs = net(inputs)\n",
        "\n",
        "        # Kayıp hesapla\n",
        "        loss = criterion(outputs, labels)\n",
        "\n",
        "        # Geri yayılım (Backward propagation)\n",
        "        loss.backward()\n",
        "\n",
        "        # Ağırlıkları güncelle\n",
        "        optimizer.step()\n",
        "\n",
        "        running_loss += loss.item()\n",
        "\n",
        "        if i % 1000 == 999:\n",
        "            print(f\"[Epoch {epoch+1}, Batch {i+1}] Loss: {running_loss/1000:.3f}\")\n",
        "            running_loss = 0.0\n",
        "\n",
        "print(\"Eğitim tamamlandı! 🎉\")\n"
      ],
      "metadata": {
        "colab": {
          "base_uri": "https://localhost:8080/"
        },
        "id": "ILUpB0FHGFXi",
        "outputId": "81e63761-ee06-491b-bd7a-5f408f004ac7"
      },
      "execution_count": null,
      "outputs": [
        {
          "output_type": "stream",
          "name": "stdout",
          "text": [
            "Kullanılan cihaz: cuda\n",
            "[Epoch 1, Batch 1000] Loss: 0.258\n",
            "[Epoch 1, Batch 2000] Loss: 0.238\n",
            "[Epoch 1, Batch 3000] Loss: 0.277\n",
            "[Epoch 1, Batch 4000] Loss: 0.261\n",
            "[Epoch 1, Batch 5000] Loss: 0.286\n",
            "[Epoch 1, Batch 6000] Loss: 0.306\n",
            "[Epoch 1, Batch 7000] Loss: 0.274\n",
            "[Epoch 1, Batch 8000] Loss: 0.313\n",
            "[Epoch 1, Batch 9000] Loss: 0.305\n",
            "[Epoch 1, Batch 10000] Loss: 0.310\n",
            "[Epoch 1, Batch 11000] Loss: 0.326\n",
            "[Epoch 1, Batch 12000] Loss: 0.356\n",
            "[Epoch 2, Batch 1000] Loss: 0.126\n",
            "[Epoch 2, Batch 2000] Loss: 0.150\n",
            "[Epoch 2, Batch 3000] Loss: 0.139\n",
            "[Epoch 2, Batch 4000] Loss: 0.129\n",
            "[Epoch 2, Batch 5000] Loss: 0.173\n",
            "[Epoch 2, Batch 6000] Loss: 0.144\n",
            "[Epoch 2, Batch 7000] Loss: 0.174\n",
            "[Epoch 2, Batch 8000] Loss: 0.172\n",
            "[Epoch 2, Batch 9000] Loss: 0.212\n",
            "[Epoch 2, Batch 10000] Loss: 0.202\n",
            "[Epoch 2, Batch 11000] Loss: 0.193\n",
            "[Epoch 2, Batch 12000] Loss: 0.194\n",
            "[Epoch 3, Batch 1000] Loss: 0.085\n",
            "[Epoch 3, Batch 2000] Loss: 0.084\n",
            "[Epoch 3, Batch 3000] Loss: 0.100\n",
            "[Epoch 3, Batch 4000] Loss: 0.071\n",
            "[Epoch 3, Batch 5000] Loss: 0.091\n",
            "[Epoch 3, Batch 6000] Loss: 0.118\n",
            "[Epoch 3, Batch 7000] Loss: 0.107\n",
            "[Epoch 3, Batch 8000] Loss: 0.114\n",
            "[Epoch 3, Batch 9000] Loss: 0.112\n",
            "[Epoch 3, Batch 10000] Loss: 0.119\n",
            "[Epoch 3, Batch 11000] Loss: 0.137\n",
            "[Epoch 3, Batch 12000] Loss: 0.140\n",
            "[Epoch 4, Batch 1000] Loss: 0.063\n",
            "[Epoch 4, Batch 2000] Loss: 0.062\n",
            "[Epoch 4, Batch 3000] Loss: 0.058\n",
            "[Epoch 4, Batch 4000] Loss: 0.070\n",
            "[Epoch 4, Batch 5000] Loss: 0.071\n",
            "[Epoch 4, Batch 6000] Loss: 0.069\n",
            "[Epoch 4, Batch 7000] Loss: 0.072\n",
            "[Epoch 4, Batch 8000] Loss: 0.081\n",
            "[Epoch 4, Batch 9000] Loss: 0.116\n",
            "[Epoch 4, Batch 10000] Loss: 0.107\n",
            "[Epoch 4, Batch 11000] Loss: 0.109\n",
            "[Epoch 4, Batch 12000] Loss: 0.100\n",
            "[Epoch 5, Batch 1000] Loss: 0.049\n",
            "[Epoch 5, Batch 2000] Loss: 0.048\n",
            "[Epoch 5, Batch 3000] Loss: 0.047\n",
            "[Epoch 5, Batch 4000] Loss: 0.054\n",
            "[Epoch 5, Batch 5000] Loss: 0.065\n",
            "[Epoch 5, Batch 6000] Loss: 0.068\n",
            "[Epoch 5, Batch 7000] Loss: 0.069\n",
            "[Epoch 5, Batch 8000] Loss: 0.074\n",
            "[Epoch 5, Batch 9000] Loss: 0.058\n",
            "[Epoch 5, Batch 10000] Loss: 0.087\n",
            "[Epoch 5, Batch 11000] Loss: 0.081\n",
            "[Epoch 5, Batch 12000] Loss: 0.102\n",
            "Eğitim tamamlandı! 🎉\n"
          ]
        }
      ]
    },
    {
      "cell_type": "code",
      "source": [
        "correct = 0\n",
        "total = 0\n",
        "\n",
        "# Modeli değerlendirme moduna al\n",
        "net.eval()\n",
        "\n",
        "# Test verisinde dön\n",
        "with torch.no_grad():  # Gradyan hesaplamayı kapat (daha hızlı)\n",
        "    for data in testloader:\n",
        "        images, labels = data\n",
        "        images, labels = images.to(device), labels.to(device)  # Verileri GPU'ya taşı\n",
        "\n",
        "        outputs = net(images)  # Modelden tahmin al\n",
        "        _, predicted = torch.max(outputs, 1)  # En yüksek olasılığa sahip sınıfı al\n",
        "\n",
        "        total += labels.size(0)  # Toplam örnek sayısını artır\n",
        "        correct += (predicted == labels).sum().item()  # Doğru tahminleri say\n",
        "\n",
        "print(f\"Test setindeki doğruluk: %{100 * correct / total:.2f}\")\n"
      ],
      "metadata": {
        "colab": {
          "base_uri": "https://localhost:8080/"
        },
        "id": "XBx1b7YxGTKb",
        "outputId": "63b32b76-06ac-405d-e38f-ff21ebec6284"
      },
      "execution_count": null,
      "outputs": [
        {
          "output_type": "stream",
          "name": "stdout",
          "text": [
            "Test setindeki doğruluk: %73.05\n"
          ]
        }
      ]
    },
    {
      "source": [
        "dataiter = iter(testloader)\n",
        "images, labels = next(dataiter)\n",
        "\n",
        "# Move images and labels to the device (GPU if available)\n",
        "images, labels = images.to(device), labels.to(device)\n",
        "\n",
        "# Görüntüleri ekrana çiz\n",
        "imshow(torchvision.utils.make_grid(images.cpu())) # Move images back to CPU for imshow\n",
        "\n",
        "# Gerçek etiketleri yazdır\n",
        "print(\"Gerçek etiketler: \", ' '.join(classes[labels[j]] for j in range(4)))\n",
        "\n",
        "# Modelin tahmin ettiği etiketler\n",
        "outputs = net(images)\n",
        "_, predicted = torch.max(outputs, 1)\n",
        "print(\"Modelin tahminleri: \", ' '.join(classes[predicted[j]] for j in range(4)))"
      ],
      "cell_type": "code",
      "metadata": {
        "colab": {
          "base_uri": "https://localhost:8080/",
          "height": 229
        },
        "id": "_gR-MU9YKGty",
        "outputId": "19d65165-fc8d-4890-ac31-5bb6826b68cb"
      },
      "execution_count": null,
      "outputs": [
        {
          "output_type": "display_data",
          "data": {
            "text/plain": [
              "<Figure size 640x480 with 1 Axes>"
            ],
            "image/png": "[encoded data removed]"
          },
          "metadata": {}
        },
        {
          "output_type": "stream",
          "name": "stdout",
          "text": [
            "Gerçek etiketler:  cat ship ship airplane\n",
            "Modelin tahminleri:  dog ship ship ship\n"
          ]
        }
      ]
    }
  ]
}